{
 "cells": [
  {
   "cell_type": "markdown",
   "id": "840481eb",
   "metadata": {},
   "source": [
    "1. In the below elements which of them are values or an expression? eg:- values can be\n",
    "integer or string and expressions will be mathematical operators.\n",
    "\n",
    "\n",
    "* ---expression or belongs to arithmetic operator\n",
    "\n",
    "\n",
    "\n",
    "'hello' ---this is string--value\n",
    "\n",
    "     \n",
    "   -87.8 ---value\n",
    "   \n",
    "   \n",
    "   -is arithmetic operator---expression\n",
    "\n",
    "\n",
    " /  belongs to arithmetic operator---expression\n",
    "  \n",
    "  + is belongs to arithmetic operator---expression\n",
    "  \n",
    "  \n",
    "  6 is integer---integer--value\n"
   ]
  },
  {
   "cell_type": "markdown",
   "id": "7019894e",
   "metadata": {},
   "source": [
    "2. What is the difference between string and variable?\n",
    "\n",
    "A Variable is a store of information, and a String is a type of information you would store in a Variable. A String is usually words, enclosed with \"\" Eg String x =\"Welcome to SoloLearn\" X is the Variable, and we declared it as a String, use the single = to assign the text to it.\n"
   ]
  },
  {
   "cell_type": "markdown",
   "id": "3892ee7f",
   "metadata": {},
   "source": [
    "3. Describe three different data types.\n",
    "\n",
    "Data Types\tExamples\t    Explanation\n",
    "Integers\t5364\t        Whole numbers\n",
    "Floats\t    3.1415\t            Decimal Numbers\n",
    "Booleans\t True, False\tTruth values that represent Yes/No\n",
    "List        [1,2,3,4,5]     a collection of data or values\n",
    "string      \"hello\"          a text type of information stores in \" \"called string\n"
   ]
  },
  {
   "cell_type": "markdown",
   "id": "433d48e3",
   "metadata": {},
   "source": [
    "4. What is an expression made up of? What do all expressions do?\n",
    "\n",
    "An expression is a construct made up of variables, operators, and method invocations, which are constructed according to the syntax of the language, that evaluates to a single value."
   ]
  },
  {
   "cell_type": "markdown",
   "id": "5b4e6b4e",
   "metadata": {},
   "source": [
    "5. This assignment statements, like spam = 10. What is the difference between an\n",
    "expression and a statement?\n",
    "\n",
    "Expression is made up of values, containers, and mathematical operators (operands) and the statement is just like a command that a python interpreter executes like print."
   ]
  },
  {
   "cell_type": "markdown",
   "id": "6a6e3dda",
   "metadata": {},
   "source": [
    "6. After running the following code, what does the variable bacon contain?\n",
    "bacon = 22\n",
    "bacon + 1\n",
    "\n",
    "The bacon variable is set to 20. The bacon + 1 expression does not reassign the value in bacon (that would need an assignment statement: bacon = bacon + 1)\n",
    "\n"
   ]
  },
  {
   "cell_type": "code",
   "execution_count": 2,
   "id": "fbccc4df",
   "metadata": {},
   "outputs": [],
   "source": [
    "bacon = 22\n"
   ]
  },
  {
   "cell_type": "code",
   "execution_count": 3,
   "id": "c7d0b231",
   "metadata": {},
   "outputs": [
    {
     "data": {
      "text/plain": [
       "23"
      ]
     },
     "execution_count": 3,
     "metadata": {},
     "output_type": "execute_result"
    }
   ],
   "source": [
    "bacon +1"
   ]
  },
  {
   "cell_type": "code",
   "execution_count": 4,
   "id": "c106e304",
   "metadata": {},
   "outputs": [],
   "source": [
    "#Sol: it gives 23 as execution code "
   ]
  },
  {
   "cell_type": "markdown",
   "id": "6a8e5bb6",
   "metadata": {},
   "source": [
    "7. What should the values of the following two terms be?\n",
    "&#39;spam&#39; + &#39;spamspam&#39;\n",
    "&#39;spam&#39; * 3\n",
    "\n",
    "#sol: it will be the same\n"
   ]
  },
  {
   "cell_type": "code",
   "execution_count": 5,
   "id": "e86def9d",
   "metadata": {},
   "outputs": [
    {
     "data": {
      "text/plain": [
       "'spamspamspam'"
      ]
     },
     "execution_count": 5,
     "metadata": {},
     "output_type": "execute_result"
    }
   ],
   "source": [
    "'spam' + 'spamspam' "
   ]
  },
  {
   "cell_type": "code",
   "execution_count": 6,
   "id": "47f7f4d4",
   "metadata": {},
   "outputs": [
    {
     "data": {
      "text/plain": [
       "'spamspamspam'"
      ]
     },
     "execution_count": 6,
     "metadata": {},
     "output_type": "execute_result"
    }
   ],
   "source": [
    "'spam' * 3"
   ]
  },
  {
   "cell_type": "markdown",
   "id": "d88c43b9",
   "metadata": {},
   "source": [
    "8. Why is eggs a valid variable name while 100 is invalid?\n",
    "\n",
    "Ans: because we can't start giving variable an integer name. if we, we should begin with, a string-like alphabet name then integer. e100 or eggs100 is valid"
   ]
  },
  {
   "cell_type": "markdown",
   "id": "b640d4f3",
   "metadata": {},
   "source": [
    "9. What three functions can be used to get the integer, floating-point number, or string version of a value?\n",
    "\n",
    "ans: str(), int(), float()"
   ]
  },
  {
   "cell_type": "markdown",
   "id": "022655d3",
   "metadata": {},
   "source": [
    "10. Why does this expression cause an error? How can you fix it?\n",
    "\n",
    "'I have eaten' + 99 + 'burritos' \n",
    "\n",
    "sol:  because 99 is an integer it cannot be concatenated with strings, if we have to concatenate it we need to do typecasting.\n",
    "\n",
    "\n"
   ]
  }
 ],
 "metadata": {
  "kernelspec": {
   "display_name": "Python 3 (ipykernel)",
   "language": "python",
   "name": "python3"
  },
  "language_info": {
   "codemirror_mode": {
    "name": "ipython",
    "version": 3
   },
   "file_extension": ".py",
   "mimetype": "text/x-python",
   "name": "python",
   "nbconvert_exporter": "python",
   "pygments_lexer": "ipython3",
   "version": "3.9.7"
  }
 },
 "nbformat": 4,
 "nbformat_minor": 5
}
